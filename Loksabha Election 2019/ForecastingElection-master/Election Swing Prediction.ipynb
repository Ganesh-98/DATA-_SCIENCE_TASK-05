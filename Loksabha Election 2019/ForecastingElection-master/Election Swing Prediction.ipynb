{
 "cells": [
  {
   "cell_type": "code",
   "execution_count": 1,
   "metadata": {},
   "outputs": [],
   "source": [
    "import pandas as pd\n",
    "from collections import defaultdict\n",
    "#df = pd.read_csv(\"election-results-csv/LS2009Candidate.csv\")\n",
    "df = pd.read_csv(\"election-results-csv/LS_2.0.csv\")"
   ]
  },
  {
   "cell_type": "code",
   "execution_count": 2,
   "metadata": {},
   "outputs": [
    {
     "data": {
      "text/plain": [
       "'No swings'"
      ]
     },
     "execution_count": 2,
     "metadata": {},
     "output_type": "execute_result"
    }
   ],
   "source": [
    "\"\"\"Coalitions in 2014\"\"\"\n",
    "#NDACoalition = [\"BJP\",\"SHS\",\"TDP\",\"LJP\",\"SAD\",\"BLSP\",\"SWP\",\"AD\",\"PMK\",\"AINRC\",\"NPF\",\"NPEP\"]\n",
    "#UPACoalition = [\"INC\",\"NCP\",\"RJD\",\"IUML\",\"JMM\",\"KEC(M)\",\"RSP\"]\n",
    "\n",
    "\"\"\"If BJP and INC were alone\"\"\"\n",
    "#NDACoalition = [\"BJP\"]\n",
    "#UPACoalition = [\"INC\"]\n",
    "\n",
    "\"\"\"Expected Coalitions in 2019\"\"\" \n",
    "NDACoalition = [\"BJP\", \"SHS\",\"JD(U)\",\"LJP\",\"NPF\",\"SAD\",\"BLSP\", \"SWP\",\"PMK\",\"NPEP\",\"AINRC\",\"ADMK\", \"AGP\"]\n",
    "UPACoalition = [\"INC\", \"AD\", \"RJD\",\"NCP\", \"DMK\",\"IUML\",\"JD(S)\",\"JKN\",\"JMM\",\"KEC(M)\",\"RSP\",\"BOPF\"]\n",
    "\n",
    "\"\"\"In percent. Incumbent swings are likelier to be lesser, as people want change.\"\"\"\n",
    "ndaSwingIncumbent = 93\n",
    "ndaSwingNotIncumbent = 97\n",
    "upaSwingIncumbent = 103\n",
    "upaSwingNotIncumbent = 107\n",
    "\n",
    "\"\"\"No swings\"\"\"\n",
    "#ndaSwingIncumbent = 100\n",
    "#ndaSwingNotIncumbent = 100\n",
    "#upaSwingIncumbent = 100\n",
    "#upaSwingNotIncumbent = 100\n"
   ]
  },
  {
   "cell_type": "code",
   "execution_count": 3,
   "metadata": {},
   "outputs": [],
   "source": [
    "#totalVotesCount = df.loc[(df['Party Abbreviation'].isin(UPACoalition+NDACoalition)), ['Total Votes Polled']].sum()\n",
    "totalVotesCount = 0\n",
    "totalNdaVotesCount = 0\n",
    "totalUpaVotesCount = 0\n",
    "totalMgbVotesCount = 0"
   ]
  },
  {
   "cell_type": "code",
   "execution_count": 4,
   "metadata": {},
   "outputs": [
    {
     "ename": "KeyError",
     "evalue": "'Party Abbreviation'",
     "output_type": "error",
     "traceback": [
      "\u001b[1;31m---------------------------------------------------------------------------\u001b[0m",
      "\u001b[1;31mKeyError\u001b[0m                                  Traceback (most recent call last)",
      "\u001b[1;32m~\\anaconda3\\lib\\site-packages\\pandas\\core\\indexes\\base.py\u001b[0m in \u001b[0;36mget_loc\u001b[1;34m(self, key, method, tolerance)\u001b[0m\n\u001b[0;32m   2894\u001b[0m             \u001b[1;32mtry\u001b[0m\u001b[1;33m:\u001b[0m\u001b[1;33m\u001b[0m\u001b[1;33m\u001b[0m\u001b[0m\n\u001b[1;32m-> 2895\u001b[1;33m                 \u001b[1;32mreturn\u001b[0m \u001b[0mself\u001b[0m\u001b[1;33m.\u001b[0m\u001b[0m_engine\u001b[0m\u001b[1;33m.\u001b[0m\u001b[0mget_loc\u001b[0m\u001b[1;33m(\u001b[0m\u001b[0mcasted_key\u001b[0m\u001b[1;33m)\u001b[0m\u001b[1;33m\u001b[0m\u001b[1;33m\u001b[0m\u001b[0m\n\u001b[0m\u001b[0;32m   2896\u001b[0m             \u001b[1;32mexcept\u001b[0m \u001b[0mKeyError\u001b[0m \u001b[1;32mas\u001b[0m \u001b[0merr\u001b[0m\u001b[1;33m:\u001b[0m\u001b[1;33m\u001b[0m\u001b[1;33m\u001b[0m\u001b[0m\n",
      "\u001b[1;32mpandas\\_libs\\index.pyx\u001b[0m in \u001b[0;36mpandas._libs.index.IndexEngine.get_loc\u001b[1;34m()\u001b[0m\n",
      "\u001b[1;32mpandas\\_libs\\index.pyx\u001b[0m in \u001b[0;36mpandas._libs.index.IndexEngine.get_loc\u001b[1;34m()\u001b[0m\n",
      "\u001b[1;32mpandas\\_libs\\hashtable_class_helper.pxi\u001b[0m in \u001b[0;36mpandas._libs.hashtable.PyObjectHashTable.get_item\u001b[1;34m()\u001b[0m\n",
      "\u001b[1;32mpandas\\_libs\\hashtable_class_helper.pxi\u001b[0m in \u001b[0;36mpandas._libs.hashtable.PyObjectHashTable.get_item\u001b[1;34m()\u001b[0m\n",
      "\u001b[1;31mKeyError\u001b[0m: 'Party Abbreviation'",
      "\nThe above exception was the direct cause of the following exception:\n",
      "\u001b[1;31mKeyError\u001b[0m                                  Traceback (most recent call last)",
      "\u001b[1;32m<ipython-input-4-19e898571028>\u001b[0m in \u001b[0;36m<module>\u001b[1;34m\u001b[0m\n\u001b[1;32m----> 1\u001b[1;33m \u001b[0mfirstNDA\u001b[0m \u001b[1;33m=\u001b[0m \u001b[0mdf\u001b[0m\u001b[1;33m.\u001b[0m\u001b[0mloc\u001b[0m\u001b[1;33m[\u001b[0m\u001b[1;33m(\u001b[0m\u001b[0mdf\u001b[0m\u001b[1;33m[\u001b[0m\u001b[1;34m'Party Abbreviation'\u001b[0m\u001b[1;33m]\u001b[0m\u001b[1;33m.\u001b[0m\u001b[0misin\u001b[0m\u001b[1;33m(\u001b[0m\u001b[0mNDACoalition\u001b[0m\u001b[1;33m)\u001b[0m\u001b[1;33m)\u001b[0m \u001b[1;33m&\u001b[0m \u001b[1;33m(\u001b[0m\u001b[0mdf\u001b[0m\u001b[1;33m[\u001b[0m\u001b[1;34m'Position'\u001b[0m\u001b[1;33m]\u001b[0m \u001b[1;33m==\u001b[0m \u001b[1;36m1\u001b[0m\u001b[1;33m)\u001b[0m\u001b[1;33m]\u001b[0m\u001b[1;33m\u001b[0m\u001b[1;33m\u001b[0m\u001b[0m\n\u001b[0m\u001b[0;32m      2\u001b[0m \u001b[0mfirstUPA\u001b[0m \u001b[1;33m=\u001b[0m \u001b[0mdf\u001b[0m\u001b[1;33m.\u001b[0m\u001b[0mloc\u001b[0m\u001b[1;33m[\u001b[0m\u001b[1;33m(\u001b[0m\u001b[0mdf\u001b[0m\u001b[1;33m[\u001b[0m\u001b[1;34m'Party Abbreviation'\u001b[0m\u001b[1;33m]\u001b[0m\u001b[1;33m.\u001b[0m\u001b[0misin\u001b[0m\u001b[1;33m(\u001b[0m\u001b[0mUPACoalition\u001b[0m\u001b[1;33m)\u001b[0m\u001b[1;33m)\u001b[0m \u001b[1;33m&\u001b[0m \u001b[1;33m(\u001b[0m\u001b[0mdf\u001b[0m\u001b[1;33m[\u001b[0m\u001b[1;34m'Position'\u001b[0m\u001b[1;33m]\u001b[0m \u001b[1;33m==\u001b[0m \u001b[1;36m1\u001b[0m\u001b[1;33m)\u001b[0m\u001b[1;33m]\u001b[0m\u001b[1;33m\u001b[0m\u001b[1;33m\u001b[0m\u001b[0m\n\u001b[0;32m      3\u001b[0m \u001b[1;31m#firstOther = df.loc[~(df['Party Abbreviation'].isin(UPACoalition+NDACoalition)) & (df['Position'] == 1)]\u001b[0m\u001b[1;33m\u001b[0m\u001b[1;33m\u001b[0m\u001b[1;33m\u001b[0m\u001b[0m\n",
      "\u001b[1;32m~\\anaconda3\\lib\\site-packages\\pandas\\core\\frame.py\u001b[0m in \u001b[0;36m__getitem__\u001b[1;34m(self, key)\u001b[0m\n\u001b[0;32m   2900\u001b[0m             \u001b[1;32mif\u001b[0m \u001b[0mself\u001b[0m\u001b[1;33m.\u001b[0m\u001b[0mcolumns\u001b[0m\u001b[1;33m.\u001b[0m\u001b[0mnlevels\u001b[0m \u001b[1;33m>\u001b[0m \u001b[1;36m1\u001b[0m\u001b[1;33m:\u001b[0m\u001b[1;33m\u001b[0m\u001b[1;33m\u001b[0m\u001b[0m\n\u001b[0;32m   2901\u001b[0m                 \u001b[1;32mreturn\u001b[0m \u001b[0mself\u001b[0m\u001b[1;33m.\u001b[0m\u001b[0m_getitem_multilevel\u001b[0m\u001b[1;33m(\u001b[0m\u001b[0mkey\u001b[0m\u001b[1;33m)\u001b[0m\u001b[1;33m\u001b[0m\u001b[1;33m\u001b[0m\u001b[0m\n\u001b[1;32m-> 2902\u001b[1;33m             \u001b[0mindexer\u001b[0m \u001b[1;33m=\u001b[0m \u001b[0mself\u001b[0m\u001b[1;33m.\u001b[0m\u001b[0mcolumns\u001b[0m\u001b[1;33m.\u001b[0m\u001b[0mget_loc\u001b[0m\u001b[1;33m(\u001b[0m\u001b[0mkey\u001b[0m\u001b[1;33m)\u001b[0m\u001b[1;33m\u001b[0m\u001b[1;33m\u001b[0m\u001b[0m\n\u001b[0m\u001b[0;32m   2903\u001b[0m             \u001b[1;32mif\u001b[0m \u001b[0mis_integer\u001b[0m\u001b[1;33m(\u001b[0m\u001b[0mindexer\u001b[0m\u001b[1;33m)\u001b[0m\u001b[1;33m:\u001b[0m\u001b[1;33m\u001b[0m\u001b[1;33m\u001b[0m\u001b[0m\n\u001b[0;32m   2904\u001b[0m                 \u001b[0mindexer\u001b[0m \u001b[1;33m=\u001b[0m \u001b[1;33m[\u001b[0m\u001b[0mindexer\u001b[0m\u001b[1;33m]\u001b[0m\u001b[1;33m\u001b[0m\u001b[1;33m\u001b[0m\u001b[0m\n",
      "\u001b[1;32m~\\anaconda3\\lib\\site-packages\\pandas\\core\\indexes\\base.py\u001b[0m in \u001b[0;36mget_loc\u001b[1;34m(self, key, method, tolerance)\u001b[0m\n\u001b[0;32m   2895\u001b[0m                 \u001b[1;32mreturn\u001b[0m \u001b[0mself\u001b[0m\u001b[1;33m.\u001b[0m\u001b[0m_engine\u001b[0m\u001b[1;33m.\u001b[0m\u001b[0mget_loc\u001b[0m\u001b[1;33m(\u001b[0m\u001b[0mcasted_key\u001b[0m\u001b[1;33m)\u001b[0m\u001b[1;33m\u001b[0m\u001b[1;33m\u001b[0m\u001b[0m\n\u001b[0;32m   2896\u001b[0m             \u001b[1;32mexcept\u001b[0m \u001b[0mKeyError\u001b[0m \u001b[1;32mas\u001b[0m \u001b[0merr\u001b[0m\u001b[1;33m:\u001b[0m\u001b[1;33m\u001b[0m\u001b[1;33m\u001b[0m\u001b[0m\n\u001b[1;32m-> 2897\u001b[1;33m                 \u001b[1;32mraise\u001b[0m \u001b[0mKeyError\u001b[0m\u001b[1;33m(\u001b[0m\u001b[0mkey\u001b[0m\u001b[1;33m)\u001b[0m \u001b[1;32mfrom\u001b[0m \u001b[0merr\u001b[0m\u001b[1;33m\u001b[0m\u001b[1;33m\u001b[0m\u001b[0m\n\u001b[0m\u001b[0;32m   2898\u001b[0m \u001b[1;33m\u001b[0m\u001b[0m\n\u001b[0;32m   2899\u001b[0m         \u001b[1;32mif\u001b[0m \u001b[0mtolerance\u001b[0m \u001b[1;32mis\u001b[0m \u001b[1;32mnot\u001b[0m \u001b[1;32mNone\u001b[0m\u001b[1;33m:\u001b[0m\u001b[1;33m\u001b[0m\u001b[1;33m\u001b[0m\u001b[0m\n",
      "\u001b[1;31mKeyError\u001b[0m: 'Party Abbreviation'"
     ]
    }
   ],
   "source": [
    "firstNDA = df.loc[(df['Party Abbreviation'].isin(NDACoalition)) & (df['Position'] == 1)]\n",
    "firstUPA = df.loc[(df['Party Abbreviation'].isin(UPACoalition)) & (df['Position'] == 1)]\n",
    "#firstOther = df.loc[~(df['Party Abbreviation'].isin(UPACoalition+NDACoalition)) & (df['Position'] == 1)]"
   ]
  },
  {
   "cell_type": "code",
   "execution_count": 5,
   "metadata": {},
   "outputs": [
    {
     "data": {
      "text/plain": [
       "' PROTOTYPE FOR UTTAR PRADESH\\nfirstBJPInUP = df.loc[(df[\\'Party Abbreviation\\'] == \"BJP\") & (df[\\'Position\\'] == 1) & (df[\\'State name\\'] == \\'Uttar Pradesh\\')]\\nc = 0\\nnumberOfSeatsLost = 0\\nnumberOfSeatsWon = 0\\n\\ntotalBjpVotes = 0\\ntotalCoalitionVotes = 0\\ntotalVotes = 0\\n\\nfor constIndex, constRow in firstBJPInUP.iterrows():\\n    selected = df.loc[(df[\"ST_CODE\"] == constRow[\"ST_CODE\"]) & (df[\"PC Number\"] == constRow[\"PC Number\"])]\\n    coalitionVotes = 0\\n    bjpVotes = 0\\n    \\n    for index,row in selected.iterrows():\\n        totalVotes += row[\\'Total Votes Polled\\']\\n        if (row[\\'Party Abbreviation\\'] in [\"SP\",\"BSP\",\"INC\",\"RLD\"]):\\n            coalitionVotes += row[\\'Total Votes Polled\\']\\n        if (row[\\'Party Abbreviation\\'] == \\'BJP\\'):\\n            bjpVotes += row[\\'Total Votes Polled\\']\\n    totalBjpVotes += bjpVotes\\n    totalCoalitionVotes += coalitionVotes\\n    \\n    if (bjpVotes < coalitionVotes):  \\n        numberOfSeatsLost += 1\\n        margin = coalitionVotes-bjpVotes\\n        #print(\"BJP LOSES THE SEAT: \"+constRow[\"PC name\"]+ \" Margin: \"+str(margin)+\" votes\") \\n    else:\\n        numberOfSeatsWon += 1\\n        margin = bjpVotes-coalitionVotes\\n        #print(\"BJP STILL WINS THE SEAT: \"+constRow[\"PC name\"]+ \" Margin: \"+str(margin)+\" votes\") \\n        \\nprint(\"Lost: \" + str(numberOfSeatsLost)+\" Won: \"+str(numberOfSeatsWon))\\nbjpVoteShare = totalBjpVotes/totalVotes*100\\ncoalitionVoteShare = totalCoalitionVotes/totalVotes*100\\nprint(\"Vote Share\\nBJP: \"+str(bjpVoteShare)+\"% INC/SP/BSP/RLD: \"+str(coalitionVoteShare)+\"%\")\\n'"
      ]
     },
     "execution_count": 5,
     "metadata": {},
     "output_type": "execute_result"
    }
   ],
   "source": [
    "\"\"\" PROTOTYPE FOR UTTAR PRADESH\n",
    "firstBJPInUP = df.loc[(df['Party Abbreviation'] == \"BJP\") & (df['Position'] == 1) & (df['State name'] == 'Uttar Pradesh')]\n",
    "c = 0\n",
    "numberOfSeatsLost = 0\n",
    "numberOfSeatsWon = 0\n",
    "\n",
    "totalBjpVotes = 0\n",
    "totalCoalitionVotes = 0\n",
    "totalVotes = 0\n",
    "\n",
    "for constIndex, constRow in firstBJPInUP.iterrows():\n",
    "    selected = df.loc[(df[\"ST_CODE\"] == constRow[\"ST_CODE\"]) & (df[\"PC Number\"] == constRow[\"PC Number\"])]\n",
    "    coalitionVotes = 0\n",
    "    bjpVotes = 0\n",
    "    \n",
    "    for index,row in selected.iterrows():\n",
    "        totalVotes += row['Total Votes Polled']\n",
    "        if (row['Party Abbreviation'] in [\"SP\",\"BSP\",\"INC\",\"RLD\"]):\n",
    "            coalitionVotes += row['Total Votes Polled']\n",
    "        if (row['Party Abbreviation'] == 'BJP'):\n",
    "            bjpVotes += row['Total Votes Polled']\n",
    "    totalBjpVotes += bjpVotes\n",
    "    totalCoalitionVotes += coalitionVotes\n",
    "    \n",
    "    if (bjpVotes < coalitionVotes):  \n",
    "        numberOfSeatsLost += 1\n",
    "        margin = coalitionVotes-bjpVotes\n",
    "        #print(\"BJP LOSES THE SEAT: \"+constRow[\"PC name\"]+ \" Margin: \"+str(margin)+\" votes\") \n",
    "    else:\n",
    "        numberOfSeatsWon += 1\n",
    "        margin = bjpVotes-coalitionVotes\n",
    "        #print(\"BJP STILL WINS THE SEAT: \"+constRow[\"PC name\"]+ \" Margin: \"+str(margin)+\" votes\") \n",
    "        \n",
    "print(\"Lost: \" + str(numberOfSeatsLost)+\" Won: \"+str(numberOfSeatsWon))\n",
    "bjpVoteShare = totalBjpVotes/totalVotes*100\n",
    "coalitionVoteShare = totalCoalitionVotes/totalVotes*100\n",
    "print(\"Vote Share\\nBJP: \"+str(bjpVoteShare)+\"% INC/SP/BSP/RLD: \"+str(coalitionVoteShare)+\"%\")\n",
    "\"\"\"\n",
    "        "
   ]
  },
  {
   "cell_type": "code",
   "execution_count": 6,
   "metadata": {
    "scrolled": false
   },
   "outputs": [
    {
     "ename": "NameError",
     "evalue": "name 'firstNDA' is not defined",
     "output_type": "error",
     "traceback": [
      "\u001b[1;31m---------------------------------------------------------------------------\u001b[0m",
      "\u001b[1;31mNameError\u001b[0m                                 Traceback (most recent call last)",
      "\u001b[1;32m<ipython-input-6-eb2160a1063b>\u001b[0m in \u001b[0;36m<module>\u001b[1;34m\u001b[0m\n\u001b[0;32m      7\u001b[0m \u001b[0mupaSeatsStatewiseFromNDA2014\u001b[0m\u001b[1;33m=\u001b[0m\u001b[0mdefaultdict\u001b[0m\u001b[1;33m(\u001b[0m\u001b[0mint\u001b[0m\u001b[1;33m)\u001b[0m\u001b[1;33m;\u001b[0m\u001b[1;33m\u001b[0m\u001b[1;33m\u001b[0m\u001b[0m\n\u001b[0;32m      8\u001b[0m \u001b[1;33m\u001b[0m\u001b[0m\n\u001b[1;32m----> 9\u001b[1;33m \u001b[1;32mfor\u001b[0m \u001b[0mconstIndex\u001b[0m\u001b[1;33m,\u001b[0m \u001b[0mconstRow\u001b[0m \u001b[1;32min\u001b[0m \u001b[0mfirstNDA\u001b[0m\u001b[1;33m.\u001b[0m\u001b[0miterrows\u001b[0m\u001b[1;33m(\u001b[0m\u001b[1;33m)\u001b[0m\u001b[1;33m:\u001b[0m\u001b[1;33m\u001b[0m\u001b[1;33m\u001b[0m\u001b[0m\n\u001b[0m\u001b[0;32m     10\u001b[0m     \u001b[0mnda2014SeatsStatewise\u001b[0m\u001b[1;33m[\u001b[0m\u001b[0mconstRow\u001b[0m\u001b[1;33m[\u001b[0m\u001b[1;34m\"State name\"\u001b[0m\u001b[1;33m]\u001b[0m\u001b[1;33m]\u001b[0m \u001b[1;33m+=\u001b[0m \u001b[1;36m1\u001b[0m\u001b[1;33m;\u001b[0m\u001b[1;33m\u001b[0m\u001b[1;33m\u001b[0m\u001b[0m\n\u001b[0;32m     11\u001b[0m     \u001b[0mselected\u001b[0m \u001b[1;33m=\u001b[0m \u001b[0mdf\u001b[0m\u001b[1;33m.\u001b[0m\u001b[0mloc\u001b[0m\u001b[1;33m[\u001b[0m\u001b[1;33m(\u001b[0m\u001b[0mdf\u001b[0m\u001b[1;33m[\u001b[0m\u001b[1;34m\"ST_CODE\"\u001b[0m\u001b[1;33m]\u001b[0m \u001b[1;33m==\u001b[0m \u001b[0mconstRow\u001b[0m\u001b[1;33m[\u001b[0m\u001b[1;34m\"ST_CODE\"\u001b[0m\u001b[1;33m]\u001b[0m\u001b[1;33m)\u001b[0m \u001b[1;33m&\u001b[0m \u001b[1;33m(\u001b[0m\u001b[0mdf\u001b[0m\u001b[1;33m[\u001b[0m\u001b[1;34m\"PC Number\"\u001b[0m\u001b[1;33m]\u001b[0m \u001b[1;33m==\u001b[0m \u001b[0mconstRow\u001b[0m\u001b[1;33m[\u001b[0m\u001b[1;34m\"PC Number\"\u001b[0m\u001b[1;33m]\u001b[0m\u001b[1;33m)\u001b[0m\u001b[1;33m]\u001b[0m\u001b[1;33m\u001b[0m\u001b[1;33m\u001b[0m\u001b[0m\n",
      "\u001b[1;31mNameError\u001b[0m: name 'firstNDA' is not defined"
     ]
    }
   ],
   "source": [
    "c = 0\n",
    "upaSeatsFromNDA2014 = 0\n",
    "ndaSeatsFromNDA2014 = 0\n",
    "\n",
    "nda2014SeatsStatewise=defaultdict(int); \n",
    "ndaSeatsStatewiseFromNDA2014=defaultdict(int);\n",
    "upaSeatsStatewiseFromNDA2014=defaultdict(int); \n",
    "\n",
    "for constIndex, constRow in firstNDA.iterrows():\n",
    "    nda2014SeatsStatewise[constRow[\"State name\"]] += 1;\n",
    "    selected = df.loc[(df[\"ST_CODE\"] == constRow[\"ST_CODE\"]) & (df[\"PC Number\"] == constRow[\"PC Number\"])]\n",
    "    upaVotes = 0;\n",
    "    ndaVotes = 0;\n",
    "    for index,row in selected.iterrows():\n",
    "        totalVotesCount += row['Total Votes Polled']\n",
    "        if (row['Party Abbreviation'] in UPACoalition):\n",
    "            upaVotes += (upaSwingNotIncumbent/100)*row['Total Votes Polled']\n",
    "        if (row['Party Abbreviation'] in NDACoalition):\n",
    "            ndaVotes += (ndaSwingIncumbent/100)*row['Total Votes Polled']\n",
    "    totalNdaVotesCount += ndaVotes \n",
    "    totalUpaVotesCount += upaVotes\n",
    "    if (ndaVotes > upaVotes):  \n",
    "        ndaSeatsFromNDA2014 += 1\n",
    "        margin = ndaVotes-upaVotes\n",
    "        ndaSeatsStatewiseFromNDA2014[constRow[\"State name\"]] += 1;\n",
    "    else:\n",
    "        ndaSeatsFromUPA2014 += 1\n",
    "        margin = upaVotes-ndaVotes\n",
    "        ndaSeatsStatewiseFromUPA2014[constRow[\"State name\"]] += 1;\n",
    "\n",
    "totalNDASeats2014 = upaSeatsFromNDA2014+ndaSeatsFromNDA2014      \n",
    "print(\"FROM NDA SEATS (\"+str(totalNDASeats2014)+\"):\\nWon by UPA: \" + str(upaSeatsFromNDA2014)+\" \\nWon by Others: \" + str(mgbSeatsFromNDA2014)+\" \\nStill Won by NDA: \"+str(ndaSeatsFromNDA2014))\n",
    "\n",
    "print('\\n')\n",
    "print(\"TOTAL WON BY NDA IN 2014 REALITY\")\n",
    "print(nda2014SeatsStatewise)\n",
    "print('\\n')\n",
    "\n",
    "print(\"WON BY UPA FROM NDA SEATS IN 2014 AFTER COALITION\")\n",
    "print(upaSeatsStatewiseFromNDA2014)\n",
    "print('\\n') \n",
    "\n",
    "print(\"WON BY NDA FROM NDA SEATS IN 2014 AFTER COALITION\")\n",
    "print(ndaSeatsStatewiseFromNDA2014)\n",
    "print('\\n')\n",
    "\n",
    "   \n",
    "        "
   ]
  },
  {
   "cell_type": "code",
   "execution_count": 7,
   "metadata": {
    "scrolled": true
   },
   "outputs": [
    {
     "ename": "NameError",
     "evalue": "name 'firstUPA' is not defined",
     "output_type": "error",
     "traceback": [
      "\u001b[1;31m---------------------------------------------------------------------------\u001b[0m",
      "\u001b[1;31mNameError\u001b[0m                                 Traceback (most recent call last)",
      "\u001b[1;32m<ipython-input-7-0bce77bad757>\u001b[0m in \u001b[0;36m<module>\u001b[1;34m\u001b[0m\n\u001b[0;32m      7\u001b[0m \u001b[0mupaSeatsStatewiseFromUPA2014\u001b[0m\u001b[1;33m=\u001b[0m\u001b[0mdefaultdict\u001b[0m\u001b[1;33m(\u001b[0m\u001b[0mint\u001b[0m\u001b[1;33m)\u001b[0m\u001b[1;33m;\u001b[0m\u001b[1;33m\u001b[0m\u001b[1;33m\u001b[0m\u001b[0m\n\u001b[0;32m      8\u001b[0m \u001b[1;33m\u001b[0m\u001b[0m\n\u001b[1;32m----> 9\u001b[1;33m \u001b[1;32mfor\u001b[0m \u001b[0mconstIndex\u001b[0m\u001b[1;33m,\u001b[0m \u001b[0mconstRow\u001b[0m \u001b[1;32min\u001b[0m \u001b[0mfirstUPA\u001b[0m\u001b[1;33m.\u001b[0m\u001b[0miterrows\u001b[0m\u001b[1;33m(\u001b[0m\u001b[1;33m)\u001b[0m\u001b[1;33m:\u001b[0m\u001b[1;33m\u001b[0m\u001b[1;33m\u001b[0m\u001b[0m\n\u001b[0m\u001b[0;32m     10\u001b[0m     \u001b[0mupa2014SeatsStatewise\u001b[0m\u001b[1;33m[\u001b[0m\u001b[0mconstRow\u001b[0m\u001b[1;33m[\u001b[0m\u001b[1;34m\"State name\"\u001b[0m\u001b[1;33m]\u001b[0m\u001b[1;33m]\u001b[0m \u001b[1;33m+=\u001b[0m \u001b[1;36m1\u001b[0m\u001b[1;33m;\u001b[0m\u001b[1;33m\u001b[0m\u001b[1;33m\u001b[0m\u001b[0m\n\u001b[0;32m     11\u001b[0m     \u001b[0mselected\u001b[0m \u001b[1;33m=\u001b[0m \u001b[0mdf\u001b[0m\u001b[1;33m.\u001b[0m\u001b[0mloc\u001b[0m\u001b[1;33m[\u001b[0m\u001b[1;33m(\u001b[0m\u001b[0mdf\u001b[0m\u001b[1;33m[\u001b[0m\u001b[1;34m\"ST_CODE\"\u001b[0m\u001b[1;33m]\u001b[0m \u001b[1;33m==\u001b[0m \u001b[0mconstRow\u001b[0m\u001b[1;33m[\u001b[0m\u001b[1;34m\"ST_CODE\"\u001b[0m\u001b[1;33m]\u001b[0m\u001b[1;33m)\u001b[0m \u001b[1;33m&\u001b[0m \u001b[1;33m(\u001b[0m\u001b[0mdf\u001b[0m\u001b[1;33m[\u001b[0m\u001b[1;34m\"PC Number\"\u001b[0m\u001b[1;33m]\u001b[0m \u001b[1;33m==\u001b[0m \u001b[0mconstRow\u001b[0m\u001b[1;33m[\u001b[0m\u001b[1;34m\"PC Number\"\u001b[0m\u001b[1;33m]\u001b[0m\u001b[1;33m)\u001b[0m\u001b[1;33m]\u001b[0m\u001b[1;33m\u001b[0m\u001b[1;33m\u001b[0m\u001b[0m\n",
      "\u001b[1;31mNameError\u001b[0m: name 'firstUPA' is not defined"
     ]
    }
   ],
   "source": [
    "c = 0\n",
    "upaSeatsFromUPA2014 = 0;\n",
    "ndaSeatsFromUPA2014 = 0;\n",
    "\n",
    "upa2014SeatsStatewise=defaultdict(int); \n",
    "ndaSeatsStatewiseFromUPA2014=defaultdict(int);\n",
    "upaSeatsStatewiseFromUPA2014=defaultdict(int); \n",
    "\n",
    "for constIndex, constRow in firstUPA.iterrows():\n",
    "    upa2014SeatsStatewise[constRow[\"State name\"]] += 1;\n",
    "    selected = df.loc[(df[\"ST_CODE\"] == constRow[\"ST_CODE\"]) & (df[\"PC Number\"] == constRow[\"PC Number\"])]\n",
    "    upaVotes = 0;\n",
    "    ndaVotes = 0;\n",
    "    for index,row in selected.iterrows():\n",
    "        totalVotesCount += row['Total Votes Polled']\n",
    "        if (row['Party Abbreviation'] in UPACoalition):\n",
    "            upaVotes += (upaSwingIncumbent/100)*row['Total Votes Polled']\n",
    "        if (row['Party Abbreviation'] in NDACoalition):\n",
    "            ndaVotes += (ndaSwingNotIncumbent/100)*row['Total Votes Polled']\n",
    "    totalNdaVotesCount += ndaVotes \n",
    "    totalUpaVotesCount += upaVotes         \n",
    "    if (upaVotes > ndaVotes):  \n",
    "        upaSeatsFromUPA2014 += 1\n",
    "        margin = upaVotes-ndaVotes\n",
    "        upaSeatsStatewiseFromUPA2014[constRow[\"State name\"]] += 1;\n",
    "    else:\n",
    "        ndaSeatsFromUPA2014 += 1\n",
    "        margin = ndaVotes-upaVotes\n",
    "        ndaSeatsStatewiseFromUPA2014[constRow[\"State name\"]] += 1;\n",
    "\n",
    "totalUPASeats2014 = upaSeatsFromUPA2014+ndaSeatsFromUPA2014\n",
    "print(\"FROM UPA SEATS (\"+str(totalUPASeats2014)+\"):\\nWon by NDA: \" + str(ndaSeatsFromUPA2014)+\" \\nStill Won by UPA: \"+str(upaSeatsFromUPA2014))\n",
    "\n",
    "print('\\n')\n",
    "print(\"TOTAL WON BY UPA IN 2014 REALITY\")\n",
    "print(upa2014SeatsStatewise)\n",
    "print('\\n')\n",
    "\n",
    "print(\"WON BY NDA FROM UPA SEATS IN 2014 AFTER COALITION\")\n",
    "print(ndaSeatsStatewiseFromUPA2014)\n",
    "print('\\n') \n",
    "\n",
    "print(\"WON BY UPA FROM UPA SEATS IN 2014 AFTER COALITION\")\n",
    "print(upaSeatsStatewiseFromUPA2014)\n",
    "print('\\n')\n",
    "\n"
   ]
  },
  {
   "cell_type": "code",
   "execution_count": 8,
   "metadata": {},
   "outputs": [
    {
     "ename": "NameError",
     "evalue": "name 'totalNDASeats2014' is not defined",
     "output_type": "error",
     "traceback": [
      "\u001b[1;31m---------------------------------------------------------------------------\u001b[0m",
      "\u001b[1;31mNameError\u001b[0m                                 Traceback (most recent call last)",
      "\u001b[1;32m<ipython-input-8-982d9eb8e47f>\u001b[0m in \u001b[0;36m<module>\u001b[1;34m\u001b[0m\n\u001b[1;32m----> 1\u001b[1;33m \u001b[0mtotalSeats\u001b[0m \u001b[1;33m=\u001b[0m \u001b[0mtotalNDASeats2014\u001b[0m \u001b[1;33m+\u001b[0m \u001b[0mtotalUPASeats2014\u001b[0m\u001b[1;33m\u001b[0m\u001b[1;33m\u001b[0m\u001b[0m\n\u001b[0m\u001b[0;32m      2\u001b[0m \u001b[0mprint\u001b[0m\u001b[1;33m(\u001b[0m\u001b[1;34m\"TOTAL SEATS (\"\u001b[0m\u001b[1;33m+\u001b[0m\u001b[0mstr\u001b[0m\u001b[1;33m(\u001b[0m\u001b[0mtotalSeats\u001b[0m\u001b[1;33m)\u001b[0m\u001b[1;33m+\u001b[0m\u001b[1;34m\"):\"\u001b[0m\u001b[1;33m)\u001b[0m\u001b[1;33m\u001b[0m\u001b[1;33m\u001b[0m\u001b[0m\n\u001b[0;32m      3\u001b[0m \u001b[1;33m\u001b[0m\u001b[0m\n\u001b[0;32m      4\u001b[0m \u001b[0mfinalUpaSeats\u001b[0m \u001b[1;33m=\u001b[0m \u001b[0mupaSeatsFromNDA2014\u001b[0m \u001b[1;33m+\u001b[0m \u001b[0mupaSeatsFromUPA2014\u001b[0m\u001b[1;33m\u001b[0m\u001b[1;33m\u001b[0m\u001b[0m\n\u001b[0;32m      5\u001b[0m \u001b[0mfinalNdaSeats\u001b[0m \u001b[1;33m=\u001b[0m \u001b[0mndaSeatsFromNDA2014\u001b[0m \u001b[1;33m+\u001b[0m \u001b[0mndaSeatsFromUPA2014\u001b[0m\u001b[1;33m\u001b[0m\u001b[1;33m\u001b[0m\u001b[0m\n",
      "\u001b[1;31mNameError\u001b[0m: name 'totalNDASeats2014' is not defined"
     ]
    }
   ],
   "source": [
    "totalSeats = totalNDASeats2014 + totalUPASeats2014\n",
    "print(\"TOTAL SEATS (\"+str(totalSeats)+\"):\")\n",
    "\n",
    "finalUpaSeats = upaSeatsFromNDA2014 + upaSeatsFromUPA2014\n",
    "finalNdaSeats = ndaSeatsFromNDA2014 + ndaSeatsFromUPA2014\n",
    "\n",
    "total2014SeatsStatewise = defaultdict(int) \n",
    "for k,v in upa2014SeatsStatewise.items():\n",
    "    total2014SeatsStatewise[k] += upa2014SeatsStatewise[k]\n",
    "for k,v in nda2014SeatsStatewise.items():\n",
    "    total2014SeatsStatewise[k] += nda2014SeatsStatewise[k] \n",
    "print(total2014SeatsStatewise)\n",
    "print(\"\\n\")\n",
    "\n",
    "print(\"TOTAL NDA SEATS STATEWISE (FROM NDA AND UPA) ARE \"+str(finalNdaSeats))\n",
    "totalNDASeatsStatewise = defaultdict(int)\n",
    "for k,v in ndaSeatsStatewiseFromNDA2014.items():\n",
    "    totalNDASeatsStatewise[k] += ndaSeatsStatewiseFromNDA2014[k]\n",
    "for k,v in ndaSeatsStatewiseFromUPA2014.items():\n",
    "    totalNDASeatsStatewise[k] += ndaSeatsStatewiseFromUPA2014[k]\n",
    "print(totalNDASeatsStatewise)\n",
    "print(\"\\n\")\n",
    "\n",
    "print(\"TOTAL UPA SEATS STATEWISE (FROM UPA AND NDA) ARE \"+str(finalUpaSeats))\n",
    "totalUPASeatsStatewise = defaultdict(int)\n",
    "for k,v in upaSeatsStatewiseFromUPA2014.items():\n",
    "    totalUPASeatsStatewise[k] += upaSeatsStatewiseFromUPA2014[k]\n",
    "for k,v in upaSeatsStatewiseFromNDA2014.items():\n",
    "    totalUPASeatsStatewise[k] += upaSeatsStatewiseFromNDA2014[k]\n",
    "print(totalUPASeatsStatewise)\n",
    "print(\"\\n\")\n",
    "\n",
    "voteShareNDA = totalNdaVotesCount/totalVotesCount*100\n",
    "voteShareUPA = totalUpaVotesCount/totalVotesCount*100\n",
    "print(\"NDA Vote Share: \"+str(voteShareNDA)+\" | UPA Vote Share: \"+str(voteShareUPA)+\" in NDA/UPA winning seats\")\n"
   ]
  },
  {
   "cell_type": "code",
   "execution_count": null,
   "metadata": {},
   "outputs": [],
   "source": []
  },
  {
   "cell_type": "code",
   "execution_count": null,
   "metadata": {},
   "outputs": [],
   "source": []
  },
  {
   "cell_type": "code",
   "execution_count": null,
   "metadata": {},
   "outputs": [],
   "source": []
  }
 ],
 "metadata": {
  "kernelspec": {
   "display_name": "Python 3",
   "language": "python",
   "name": "python3"
  },
  "language_info": {
   "codemirror_mode": {
    "name": "ipython",
    "version": 3
   },
   "file_extension": ".py",
   "mimetype": "text/x-python",
   "name": "python",
   "nbconvert_exporter": "python",
   "pygments_lexer": "ipython3",
   "version": "3.8.5"
  }
 },
 "nbformat": 4,
 "nbformat_minor": 2
}
